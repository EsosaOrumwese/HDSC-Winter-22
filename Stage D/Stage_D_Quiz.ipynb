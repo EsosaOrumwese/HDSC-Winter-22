{
  "nbformat": 4,
  "nbformat_minor": 0,
  "metadata": {
    "colab": {
      "name": "Stage D Quiz.ipynb",
      "provenance": [],
      "authorship_tag": "ABX9TyPpA5HDgPBamvG7fW2xhYW+",
      "include_colab_link": true
    },
    "kernelspec": {
      "name": "python3",
      "display_name": "Python 3"
    },
    "language_info": {
      "name": "python"
    }
  },
  "cells": [
    {
      "cell_type": "markdown",
      "metadata": {
        "id": "view-in-github",
        "colab_type": "text"
      },
      "source": [
        "<a href=\"https://colab.research.google.com/github/EsosaOrumwese/HDSC-Winter-22/blob/master/Stage%20D/Stage_D_Quiz.ipynb\" target=\"_parent\"><img src=\"https://colab.research.google.com/assets/colab-badge.svg\" alt=\"Open In Colab\"/></a>"
      ]
    },
    {
      "cell_type": "code",
      "execution_count": null,
      "metadata": {
        "id": "8d257uFQDBr1"
      },
      "outputs": [],
      "source": [
        ""
      ]
    }
  ]
}